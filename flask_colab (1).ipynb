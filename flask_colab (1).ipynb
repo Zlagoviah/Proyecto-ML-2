{
  "nbformat": 4,
  "nbformat_minor": 0,
  "metadata": {
    "colab": {
      "provenance": []
    },
    "kernelspec": {
      "name": "python3",
      "display_name": "Python 3"
    },
    "language_info": {
      "name": "python"
    }
  },
  "cells": [
    {
      "cell_type": "code",
      "source": [
        "from google.colab import drive\n",
        "drive.mount('/content/drive')"
      ],
      "metadata": {
        "colab": {
          "base_uri": "https://localhost:8080/"
        },
        "id": "n11o2DvhxjmY",
        "outputId": "6c9eebfe-1115-483a-a502-113dd1e3d080"
      },
      "execution_count": 1,
      "outputs": [
        {
          "output_type": "stream",
          "name": "stdout",
          "text": [
            "Drive already mounted at /content/drive; to attempt to forcibly remount, call drive.mount(\"/content/drive\", force_remount=True).\n"
          ]
        }
      ]
    },
    {
      "cell_type": "code",
      "source": [
        "!ls /content/drive/My\\ Drive/Flask/*.py"
      ],
      "metadata": {
        "colab": {
          "base_uri": "https://localhost:8080/"
        },
        "id": "Bg7B2urs34PW",
        "outputId": "71043097-a16d-4489-c50e-2afe612f856b"
      },
      "execution_count": 2,
      "outputs": [
        {
          "output_type": "stream",
          "name": "stdout",
          "text": [
            "'/content/drive/My Drive/Flask/app2.py'  '/content/drive/My Drive/Flask/cnn.py'\n",
            "'/content/drive/My Drive/Flask/app.py'\t '/content/drive/My Drive/Flask/prediction.py'\n"
          ]
        }
      ]
    },
    {
      "cell_type": "code",
      "source": [
        "!cat '/content/drive/My Drive/Flask/prediction.py'"
      ],
      "metadata": {
        "colab": {
          "base_uri": "https://localhost:8080/"
        },
        "id": "E9ob6-F54KCN",
        "outputId": "d128e5a9-94b3-4bf0-85ce-b1488f8b4789"
      },
      "execution_count": 3,
      "outputs": [
        {
          "output_type": "stream",
          "name": "stdout",
          "text": [
            "import numpy as np\r\n",
            "from PIL import Image\r\n",
            "from tensorflow.keras.models import model_from_json\r\n",
            "#from sklearn.preprocessing import LabelEncoder\r\n",
            "from google.colab import drive\r\n",
            "drive.mount('/content/drive')\r\n",
            "\r\n",
            "def getPrediction(file_path):\r\n",
            "    \r\n",
            "    #classes = ['NonDemented','VeryMildDemented','MildDemented','ModerateDemented']\r\n",
            "    #le = LabelEncoder()\r\n",
            "    #le.fit(classes)\r\n",
            "    #le.inverse_transform([2])\r\n",
            "    \r\n",
            "    \r\n",
            "    #Load model\r\n",
            "    with open('/content/drive/MyDrive/Flask/model.json', 'r') as json_file:\r\n",
            "        loaded_model_json = json_file.read()\r\n",
            "    my_model = model_from_json(loaded_model_json)\r\n",
            "    my_model.load_weights('/content/drive/MyDrive/Flask/model_cnnv2.h5')\r\n",
            "    \r\n",
            "    imagenes_array_train = []\r\n",
            "    imagen_array = np.asarray(Image.open(file_path).convert(\"RGB\").resize((176, 208)))       \r\n",
            "    # Añadir el array NumPy a la lista\r\n",
            "    imagenes_array_train.append(imagen_array)\r\n",
            "\r\n",
            "    img = np.stack(imagenes_array_train)\r\n",
            "    \r\n",
            "    pred = my_model.predict(img) #Predict                    \r\n",
            "    \r\n",
            "    y_pred = [np.argmax(pred)][0]\r\n",
            "    \r\n",
            "    if y_pred == 0:\r\n",
            "        return 'NonDemented'\r\n",
            "    elif y_pred == 1:\r\n",
            "        return 'VeryMildDemented'\r\n",
            "    elif y_pred == 2:\r\n",
            "        return 'MildDemented'\r\n",
            "    elif y_pred == 3:\r\n",
            "        return 'ModerateDemented'\r\n",
            "    \r\n",
            "    #Convert prediction to class name\r\n",
            "    # pred_class = le.inverse_transform([np.argmax(pred)])[0]\r\n",
            "    # print(\"Diagnosis is:\", pred_class)\r\n",
            "    # return pred_class\r\n",
            "\r\n",
            "# print(getPrediction(\"C:\\\\Users\\\\halo4\\\\OneDrive\\\\Up\\\\Clases\\\\Aprenizaje maquina 2\\\\test\\\\NonDemented\\\\26 (71).jpg\"))"
          ]
        }
      ]
    },
    {
      "cell_type": "code",
      "source": [
        "import sys\n",
        "sys.path.append('/content/drive/My Drive/Flask/')"
      ],
      "metadata": {
        "id": "Lyx9wqp94Tmw"
      },
      "execution_count": 4,
      "outputs": []
    },
    {
      "cell_type": "markdown",
      "source": [
        "We'll need to update our path to import from Drive."
      ],
      "metadata": {
        "id": "gEpyg6Np4wVQ"
      }
    },
    {
      "cell_type": "code",
      "source": [
        "import prediction"
      ],
      "metadata": {
        "colab": {
          "base_uri": "https://localhost:8080/"
        },
        "id": "0OU98AB94Ym2",
        "outputId": "226fcb9a-0a95-49c2-8d5d-5739638b0f7e"
      },
      "execution_count": 5,
      "outputs": [
        {
          "output_type": "stream",
          "name": "stdout",
          "text": [
            "Drive already mounted at /content/drive; to attempt to forcibly remount, call drive.mount(\"/content/drive\", force_remount=True).\n"
          ]
        }
      ]
    },
    {
      "cell_type": "code",
      "execution_count": 6,
      "metadata": {
        "colab": {
          "base_uri": "https://localhost:8080/"
        },
        "id": "Asnbpr7esFtR",
        "outputId": "ba358b2d-97e9-4bc3-eb87-238a90ec1d2c"
      },
      "outputs": [
        {
          "output_type": "stream",
          "name": "stdout",
          "text": [
            "Requirement already satisfied: flask_ngrok in /usr/local/lib/python3.10/dist-packages (0.0.25)\n",
            "Requirement already satisfied: Flask>=0.8 in /usr/local/lib/python3.10/dist-packages (from flask_ngrok) (2.2.5)\n",
            "Requirement already satisfied: requests in /usr/local/lib/python3.10/dist-packages (from flask_ngrok) (2.31.0)\n",
            "Requirement already satisfied: Werkzeug>=2.2.2 in /usr/local/lib/python3.10/dist-packages (from Flask>=0.8->flask_ngrok) (3.0.1)\n",
            "Requirement already satisfied: Jinja2>=3.0 in /usr/local/lib/python3.10/dist-packages (from Flask>=0.8->flask_ngrok) (3.1.2)\n",
            "Requirement already satisfied: itsdangerous>=2.0 in /usr/local/lib/python3.10/dist-packages (from Flask>=0.8->flask_ngrok) (2.1.2)\n",
            "Requirement already satisfied: click>=8.0 in /usr/local/lib/python3.10/dist-packages (from Flask>=0.8->flask_ngrok) (8.1.7)\n",
            "Requirement already satisfied: charset-normalizer<4,>=2 in /usr/local/lib/python3.10/dist-packages (from requests->flask_ngrok) (3.3.2)\n",
            "Requirement already satisfied: idna<4,>=2.5 in /usr/local/lib/python3.10/dist-packages (from requests->flask_ngrok) (3.6)\n",
            "Requirement already satisfied: urllib3<3,>=1.21.1 in /usr/local/lib/python3.10/dist-packages (from requests->flask_ngrok) (2.0.7)\n",
            "Requirement already satisfied: certifi>=2017.4.17 in /usr/local/lib/python3.10/dist-packages (from requests->flask_ngrok) (2023.11.17)\n",
            "Requirement already satisfied: MarkupSafe>=2.0 in /usr/local/lib/python3.10/dist-packages (from Jinja2>=3.0->Flask>=0.8->flask_ngrok) (2.1.3)\n"
          ]
        }
      ],
      "source": [
        "!pip install flask_ngrok"
      ]
    },
    {
      "cell_type": "code",
      "source": [
        "!pip install pyngrok==4.1.1"
      ],
      "metadata": {
        "colab": {
          "base_uri": "https://localhost:8080/"
        },
        "id": "gjjIYvmQyZRo",
        "outputId": "bd9611f9-62a1-42e9-dc39-6675f1f8c154"
      },
      "execution_count": 7,
      "outputs": [
        {
          "output_type": "stream",
          "name": "stdout",
          "text": [
            "Requirement already satisfied: pyngrok==4.1.1 in /usr/local/lib/python3.10/dist-packages (4.1.1)\n",
            "Requirement already satisfied: future in /usr/local/lib/python3.10/dist-packages (from pyngrok==4.1.1) (0.18.3)\n",
            "Requirement already satisfied: PyYAML in /usr/local/lib/python3.10/dist-packages (from pyngrok==4.1.1) (6.0.1)\n"
          ]
        }
      ]
    },
    {
      "cell_type": "code",
      "source": [
        "!ngrok authtoken 2ZKF9W8DIq5HiXcXuj4oowsU0zA_5jDHdfeZpumyefsK388mF"
      ],
      "metadata": {
        "colab": {
          "base_uri": "https://localhost:8080/"
        },
        "id": "le1PWqgT0p-I",
        "outputId": "e24c6d88-7be7-4e6c-a55e-3f702437ba01"
      },
      "execution_count": 8,
      "outputs": [
        {
          "output_type": "stream",
          "name": "stdout",
          "text": [
            "Authtoken saved to configuration file: /root/.ngrok2/ngrok.yml\n"
          ]
        }
      ]
    },
    {
      "cell_type": "code",
      "source": [
        "from flask import Flask, render_template, request, abort, make_response, jsonify, flash, redirect\n",
        "from werkzeug.utils import secure_filename\n",
        "import os\n",
        "import tempfile\n",
        "from flask_ngrok import run_with_ngrok\n",
        "\n",
        "template_folder = \"/content/drive/MyDrive/Flask/templates\"\n",
        "\n",
        "app = Flask(__name__, template_folder = template_folder)\n",
        "run_with_ngrok(app)\n",
        "\n",
        "app.secret_key = \"secret key\"\n",
        "app.config['MAX_CONTENT_LENGTH'] = 16 * 1024 * 1024  # 16 MB\n",
        "# app.config['UPLOAD_FOLDER'] = \"F:/Imagenes/\"\n",
        "app.config['UPLOAD_FOLDER'] = tempfile.gettempdir()\n",
        "\n",
        "ALLOWED_EXTENSIONS = {'png', 'jpg', 'jpeg'}\n",
        "\n",
        "def allowed_file(filename):\n",
        "    return '.' in filename and \\\n",
        "           filename.rsplit('.', 1)[1].lower() in ALLOWED_EXTENSIONS\n",
        "\n",
        "@app.errorhandler(413)\n",
        "def too_large(e):\n",
        "    return make_response(jsonify(message=\"File is too large\"), 413)\n",
        "\n",
        "@app.route('/')\n",
        "def home():\n",
        "    return render_template('ejemplocopy.html')\n",
        "\n",
        "@app.route('/upload', methods=['POST', 'GET'])\n",
        "def upload_file():\n",
        "    if 'file' in request.files:\n",
        "        file = request.files['file']\n",
        "        if file and allowed_file(file.filename):\n",
        "            filename = secure_filename(file.filename)\n",
        "            # Here you should save the file\n",
        "            # file.save(\"F:/Imagenes\")\n",
        "            file = file.save(os.path.join(app.config['UPLOAD_FOLDER'], filename))\n",
        "            file_path = os.path.join(app.config['UPLOAD_FOLDER'], filename)\n",
        "            # return 'File uploaded successfully'\n",
        "        try:\n",
        "            predict = prediction.getPrediction(file_path)\n",
        "            # Aparece No File uploaded\n",
        "            flash(predict)\n",
        "            # return {'Diagnosis is:':predict}\n",
        "            return redirect('/')\n",
        "        except Exception as error:\n",
        "            print(\"Error:\", error)\n",
        "            return {'error': str(error)}, 500\n",
        "\n",
        "    return 'No file uploaded'\n",
        "\n",
        "if __name__ == '__main__':\n",
        "    app.run()"
      ],
      "metadata": {
        "id": "L-tgsyjasi_U",
        "colab": {
          "base_uri": "https://localhost:8080/"
        },
        "outputId": "9ee235d6-20d3-442c-be0d-cd3d787803ee"
      },
      "execution_count": 11,
      "outputs": [
        {
          "output_type": "stream",
          "name": "stdout",
          "text": [
            " * Serving Flask app '__main__'\n",
            " * Debug mode: off\n"
          ]
        },
        {
          "output_type": "stream",
          "name": "stderr",
          "text": [
            "INFO:werkzeug:\u001b[31m\u001b[1mWARNING: This is a development server. Do not use it in a production deployment. Use a production WSGI server instead.\u001b[0m\n",
            " * Running on http://127.0.0.1:5000\n",
            "INFO:werkzeug:\u001b[33mPress CTRL+C to quit\u001b[0m\n"
          ]
        },
        {
          "output_type": "stream",
          "name": "stdout",
          "text": [
            " * Running on http://5dfd-35-190-176-27.ngrok-free.app\n",
            " * Traffic stats available on http://127.0.0.1:4040\n"
          ]
        }
      ]
    }
  ]
}