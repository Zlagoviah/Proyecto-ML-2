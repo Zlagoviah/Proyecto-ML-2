{
  "nbformat": 4,
  "nbformat_minor": 0,
  "metadata": {
    "colab": {
      "provenance": []
    },
    "kernelspec": {
      "name": "python3",
      "display_name": "Python 3"
    },
    "language_info": {
      "name": "python"
    }
  },
  "cells": [
    {
      "cell_type": "code",
      "source": [
        "from google.colab import drive\n",
        "drive.mount('/content/drive')"
      ],
      "metadata": {
        "colab": {
          "base_uri": "https://localhost:8080/"
        },
        "id": "n11o2DvhxjmY",
        "outputId": "efb44bb3-b8c4-432f-a49e-461ba1d4e78b"
      },
      "execution_count": 1,
      "outputs": [
        {
          "output_type": "stream",
          "name": "stdout",
          "text": [
            "Drive already mounted at /content/drive; to attempt to forcibly remount, call drive.mount(\"/content/drive\", force_remount=True).\n"
          ]
        }
      ]
    },
    {
      "cell_type": "code",
      "source": [
        "!ls /content/drive/My\\ Drive/Flask/*.py"
      ],
      "metadata": {
        "colab": {
          "base_uri": "https://localhost:8080/"
        },
        "id": "Bg7B2urs34PW",
        "outputId": "a0bb1869-7cd3-4fed-d6b7-a3e467933ce4"
      },
      "execution_count": 2,
      "outputs": [
        {
          "output_type": "stream",
          "name": "stdout",
          "text": [
            "'/content/drive/My Drive/Flask/app2.py'  '/content/drive/My Drive/Flask/prediction.py'\n",
            "'/content/drive/My Drive/Flask/app.py'\t '/content/drive/My Drive/Flask/Untitled0.py'\n",
            "'/content/drive/My Drive/Flask/cnn.py'\n"
          ]
        }
      ]
    },
    {
      "cell_type": "code",
      "source": [
        "!cat '/content/drive/My Drive/Flask/prediction.py'"
      ],
      "metadata": {
        "colab": {
          "base_uri": "https://localhost:8080/"
        },
        "id": "E9ob6-F54KCN",
        "outputId": "25007ee3-51a2-45e2-d822-fad7dc31ae58"
      },
      "execution_count": 3,
      "outputs": [
        {
          "output_type": "stream",
          "name": "stdout",
          "text": [
            "import numpy as np\r\n",
            "from PIL import Image\r\n",
            "from tensorflow.keras.models import model_from_json\r\n",
            "#from sklearn.preprocessing import LabelEncoder\r\n",
            "from google.colab import drive\r\n",
            "drive.mount('/content/drive')\r\n",
            "\r\n",
            "def getPrediction(file_path):\r\n",
            "    \r\n",
            "    #classes = ['NonDemented','VeryMildDemented','MildDemented','ModerateDemented']\r\n",
            "    #le = LabelEncoder()\r\n",
            "    #le.fit(classes)\r\n",
            "    #le.inverse_transform([2])\r\n",
            "    \r\n",
            "    \r\n",
            "    #Load model\r\n",
            "    with open('/content/drive/MyDrive/Flask/model.json', 'r') as json_file:\r\n",
            "        loaded_model_json = json_file.read()\r\n",
            "    my_model = model_from_json(loaded_model_json)\r\n",
            "    my_model.load_weights('/content/drive/MyDrive/Flask/model_cnnv2.h5')\r\n",
            "    \r\n",
            "    imagenes_array_train = []\r\n",
            "    imagen_array = np.asarray(Image.open(file_path).convert(\"RGB\").resize((176, 208)))       \r\n",
            "    # Añadir el array NumPy a la lista\r\n",
            "    imagenes_array_train.append(imagen_array)\r\n",
            "\r\n",
            "    img = np.stack(imagenes_array_train)\r\n",
            "    \r\n",
            "    pred = my_model.predict(img) #Predict                    \r\n",
            "    \r\n",
            "    y_pred = [np.argmax(pred)][0]\r\n",
            "    \r\n",
            "    if y_pred == 0:\r\n",
            "        return 'NonDemented'\r\n",
            "    elif y_pred == 1:\r\n",
            "        return 'VeryMildDemented'\r\n",
            "    elif y_pred == 2:\r\n",
            "        return 'MildDemented'\r\n",
            "    elif y_pred == 3:\r\n",
            "        return 'ModerateDemented'\r\n",
            "    \r\n",
            "    #Convert prediction to class name\r\n",
            "    # pred_class = le.inverse_transform([np.argmax(pred)])[0]\r\n",
            "    # print(\"Diagnosis is:\", pred_class)\r\n",
            "    # return pred_class\r\n",
            "\r\n",
            "# print(getPrediction(\"C:\\\\Users\\\\halo4\\\\OneDrive\\\\Up\\\\Clases\\\\Aprenizaje maquina 2\\\\test\\\\NonDemented\\\\26 (71).jpg\"))"
          ]
        }
      ]
    },
    {
      "cell_type": "code",
      "source": [
        "import sys\n",
        "sys.path.append('/content/drive/My Drive/Flask/')"
      ],
      "metadata": {
        "id": "Lyx9wqp94Tmw"
      },
      "execution_count": 4,
      "outputs": []
    },
    {
      "cell_type": "markdown",
      "source": [
        "We'll need to update our path to import from Drive."
      ],
      "metadata": {
        "id": "gEpyg6Np4wVQ"
      }
    },
    {
      "cell_type": "code",
      "source": [
        "import prediction"
      ],
      "metadata": {
        "colab": {
          "base_uri": "https://localhost:8080/"
        },
        "id": "0OU98AB94Ym2",
        "outputId": "454dcfed-9db0-4a97-c817-04905245f410"
      },
      "execution_count": 5,
      "outputs": [
        {
          "output_type": "stream",
          "name": "stdout",
          "text": [
            "Drive already mounted at /content/drive; to attempt to forcibly remount, call drive.mount(\"/content/drive\", force_remount=True).\n"
          ]
        }
      ]
    },
    {
      "cell_type": "code",
      "execution_count": 6,
      "metadata": {
        "colab": {
          "base_uri": "https://localhost:8080/"
        },
        "id": "Asnbpr7esFtR",
        "outputId": "d5e55f49-845a-4f98-d477-2e2dc0916bb0"
      },
      "outputs": [
        {
          "output_type": "stream",
          "name": "stdout",
          "text": [
            "Requirement already satisfied: flask_ngrok in /usr/local/lib/python3.10/dist-packages (0.0.25)\n",
            "Requirement already satisfied: Flask>=0.8 in /usr/local/lib/python3.10/dist-packages (from flask_ngrok) (2.2.5)\n",
            "Requirement already satisfied: requests in /usr/local/lib/python3.10/dist-packages (from flask_ngrok) (2.31.0)\n",
            "Requirement already satisfied: Werkzeug>=2.2.2 in /usr/local/lib/python3.10/dist-packages (from Flask>=0.8->flask_ngrok) (3.0.1)\n",
            "Requirement already satisfied: Jinja2>=3.0 in /usr/local/lib/python3.10/dist-packages (from Flask>=0.8->flask_ngrok) (3.1.2)\n",
            "Requirement already satisfied: itsdangerous>=2.0 in /usr/local/lib/python3.10/dist-packages (from Flask>=0.8->flask_ngrok) (2.1.2)\n",
            "Requirement already satisfied: click>=8.0 in /usr/local/lib/python3.10/dist-packages (from Flask>=0.8->flask_ngrok) (8.1.7)\n",
            "Requirement already satisfied: charset-normalizer<4,>=2 in /usr/local/lib/python3.10/dist-packages (from requests->flask_ngrok) (3.3.2)\n",
            "Requirement already satisfied: idna<4,>=2.5 in /usr/local/lib/python3.10/dist-packages (from requests->flask_ngrok) (3.6)\n",
            "Requirement already satisfied: urllib3<3,>=1.21.1 in /usr/local/lib/python3.10/dist-packages (from requests->flask_ngrok) (2.0.7)\n",
            "Requirement already satisfied: certifi>=2017.4.17 in /usr/local/lib/python3.10/dist-packages (from requests->flask_ngrok) (2023.11.17)\n",
            "Requirement already satisfied: MarkupSafe>=2.0 in /usr/local/lib/python3.10/dist-packages (from Jinja2>=3.0->Flask>=0.8->flask_ngrok) (2.1.3)\n"
          ]
        }
      ],
      "source": [
        "!pip install flask_ngrok"
      ]
    },
    {
      "cell_type": "code",
      "source": [
        "!pip install pyngrok==4.1.1"
      ],
      "metadata": {
        "colab": {
          "base_uri": "https://localhost:8080/"
        },
        "id": "gjjIYvmQyZRo",
        "outputId": "08cdbdf2-1b03-4ffc-e0fd-436d1514fd44"
      },
      "execution_count": 7,
      "outputs": [
        {
          "output_type": "stream",
          "name": "stdout",
          "text": [
            "Requirement already satisfied: pyngrok==4.1.1 in /usr/local/lib/python3.10/dist-packages (4.1.1)\n",
            "Requirement already satisfied: future in /usr/local/lib/python3.10/dist-packages (from pyngrok==4.1.1) (0.18.3)\n",
            "Requirement already satisfied: PyYAML in /usr/local/lib/python3.10/dist-packages (from pyngrok==4.1.1) (6.0.1)\n"
          ]
        }
      ]
    },
    {
      "cell_type": "code",
      "source": [
        "!ngrok authtoken 2ZKF9W8DIq5HiXcXuj4oowsU0zA_5jDHdfeZpumyefsK388mF"
      ],
      "metadata": {
        "colab": {
          "base_uri": "https://localhost:8080/"
        },
        "id": "le1PWqgT0p-I",
        "outputId": "823cf1ff-97cf-4c55-f22c-a1ac6055dd17"
      },
      "execution_count": 8,
      "outputs": [
        {
          "output_type": "stream",
          "name": "stdout",
          "text": [
            "Authtoken saved to configuration file: /root/.ngrok2/ngrok.yml\n"
          ]
        }
      ]
    },
    {
      "cell_type": "code",
      "source": [
        "from flask import Flask, render_template, request, abort, make_response, jsonify, flash, redirect\n",
        "from werkzeug.utils import secure_filename\n",
        "import os\n",
        "import tempfile\n",
        "from flask_ngrok import run_with_ngrok\n",
        "\n",
        "template_folder = \"/content/drive/MyDrive/Flask/templates\"\n",
        "\n",
        "app = Flask(__name__, template_folder = template_folder)\n",
        "run_with_ngrok(app)\n",
        "\n",
        "app.secret_key = \"secret key\"\n",
        "app.config['MAX_CONTENT_LENGTH'] = 16 * 1024 * 1024  # 16 MB\n",
        "# app.config['UPLOAD_FOLDER'] = \"F:/Imagenes/\"\n",
        "app.config['UPLOAD_FOLDER'] = tempfile.gettempdir()\n",
        "\n",
        "ALLOWED_EXTENSIONS = {'png', 'jpg', 'jpeg'}\n",
        "\n",
        "def allowed_file(filename):\n",
        "    return '.' in filename and \\\n",
        "           filename.rsplit('.', 1)[1].lower() in ALLOWED_EXTENSIONS\n",
        "\n",
        "@app.errorhandler(413)\n",
        "def too_large(e):\n",
        "    return make_response(jsonify(message=\"File is too large\"), 413)\n",
        "\n",
        "@app.route('/')\n",
        "def home():\n",
        "    return render_template('ejemplo.html')\n",
        "\n",
        "@app.route('/upload', methods=['POST', 'GET'])\n",
        "def upload_file():\n",
        "    if 'file' in request.files:\n",
        "        file = request.files['file']\n",
        "        if file and allowed_file(file.filename):\n",
        "            filename = secure_filename(file.filename)\n",
        "            # Here you should save the file\n",
        "            # file.save(\"F:/Imagenes\")\n",
        "            file = file.save(os.path.join(app.config['UPLOAD_FOLDER'], secure_filename(filename)))\n",
        "            file_path = os.path.join(app.config['UPLOAD_FOLDER'], secure_filename(filename))\n",
        "            # return 'File uploaded successfully'\n",
        "        try:\n",
        "            predict = prediction.getPrediction(file_path)\n",
        "            # Aparece No File uploaded\n",
        "            # flash(predict)\n",
        "            return {'Diagnosis is:':predict}\n",
        "            # return redirect('/')\n",
        "        except Exception as error:\n",
        "            print(\"Error:\", error)\n",
        "            return {'error': str(error)}, 500\n",
        "\n",
        "    return 'No file uploaded'\n",
        "\n",
        "if __name__ == '__main__':\n",
        "    app.run()"
      ],
      "metadata": {
        "id": "L-tgsyjasi_U",
        "colab": {
          "base_uri": "https://localhost:8080/"
        },
        "outputId": "2bf8b5a7-df5c-41eb-dcef-84f5acfc93a4"
      },
      "execution_count": 10,
      "outputs": [
        {
          "output_type": "stream",
          "name": "stdout",
          "text": [
            " * Serving Flask app '__main__'\n",
            " * Debug mode: off\n"
          ]
        },
        {
          "output_type": "stream",
          "name": "stderr",
          "text": [
            "INFO:werkzeug:\u001b[31m\u001b[1mWARNING: This is a development server. Do not use it in a production deployment. Use a production WSGI server instead.\u001b[0m\n",
            " * Running on http://127.0.0.1:5000\n",
            "INFO:werkzeug:\u001b[33mPress CTRL+C to quit\u001b[0m\n"
          ]
        },
        {
          "output_type": "stream",
          "name": "stdout",
          "text": [
            " * Running on http://7158-34-66-50-129.ngrok-free.app\n",
            " * Traffic stats available on http://127.0.0.1:4040\n"
          ]
        },
        {
          "output_type": "stream",
          "name": "stderr",
          "text": [
            "INFO:werkzeug:127.0.0.1 - - [10/Dec/2023 01:37:40] \"GET / HTTP/1.1\" 200 -\n",
            "INFO:werkzeug:127.0.0.1 - - [10/Dec/2023 01:38:14] \"GET / HTTP/1.1\" 200 -\n",
            "INFO:werkzeug:127.0.0.1 - - [10/Dec/2023 01:38:14] \"\u001b[33mGET /favicon.ico HTTP/1.1\u001b[0m\" 404 -\n",
            "INFO:werkzeug:127.0.0.1 - - [10/Dec/2023 01:39:28] \"GET / HTTP/1.1\" 200 -\n",
            "INFO:werkzeug:127.0.0.1 - - [10/Dec/2023 01:39:28] \"\u001b[33mGET /favicon.ico HTTP/1.1\u001b[0m\" 404 -\n",
            "WARNING:tensorflow:5 out of the last 5 calls to <function Model.make_predict_function.<locals>.predict_function at 0x7d79f833b0a0> triggered tf.function retracing. Tracing is expensive and the excessive number of tracings could be due to (1) creating @tf.function repeatedly in a loop, (2) passing tensors with different shapes, (3) passing Python objects instead of tensors. For (1), please define your @tf.function outside of the loop. For (2), @tf.function has reduce_retracing=True option that can avoid unnecessary retracing. For (3), please refer to https://www.tensorflow.org/guide/function#controlling_retracing and https://www.tensorflow.org/api_docs/python/tf/function for  more details.\n"
          ]
        },
        {
          "output_type": "stream",
          "name": "stdout",
          "text": [
            "1/1 [==============================] - 0s 408ms/step\n"
          ]
        },
        {
          "output_type": "stream",
          "name": "stderr",
          "text": [
            "INFO:werkzeug:127.0.0.1 - - [10/Dec/2023 01:39:42] \"POST /upload HTTP/1.1\" 200 -\n"
          ]
        }
      ]
    },
    {
      "cell_type": "code",
      "source": [],
      "metadata": {
        "id": "E4aEcwU_5eJ5"
      },
      "execution_count": null,
      "outputs": []
    }
  ]
}