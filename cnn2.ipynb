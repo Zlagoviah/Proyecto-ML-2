{
 "cells": [
  {
   "cell_type": "code",
   "execution_count": 1,
   "metadata": {},
   "outputs": [
    {
     "name": "stdout",
     "output_type": "stream",
     "text": [
      "WARNING:tensorflow:From c:\\Users\\halo4\\AppData\\Local\\Programs\\Python\\Python311\\Lib\\site-packages\\keras\\src\\losses.py:2976: The name tf.losses.sparse_softmax_cross_entropy is deprecated. Please use tf.compat.v1.losses.sparse_softmax_cross_entropy instead.\n",
      "\n"
     ]
    }
   ],
   "source": [
    "import numpy as np\n",
    "import pickle\n",
    "import keras\n",
    "from keras.models import Sequential\n",
    "from keras.preprocessing.image import ImageDataGenerator\n",
    "from keras.layers import Dense, Activation, Flatten, Dropout, BatchNormalization\n",
    "from keras.layers import Conv2D, MaxPooling2D\n",
    "from keras.datasets import cifar10\n",
    "from keras import regularizers\n",
    "from keras.callbacks import LearningRateScheduler\n",
    "import matplotlib.pyplot as plt\n",
    "import os\n",
    "from PIL import Image\n",
    "import tensorflow as tf\n",
    "from sklearn.model_selection import train_test_split\n",
    "import tensorflow as tf\n",
    "import xgboost as xgb\n",
    "from datetime import datetime\n",
    "from xgboost import XGBClassifier\n",
    "from scipy import stats\n",
    "from sklearn.metrics import accuracy_score\n",
    "from sklearn.metrics import roc_auc_score\n",
    "from tensorflow.keras.callbacks import Callback"
   ]
  },
  {
   "cell_type": "code",
   "execution_count": 2,
   "metadata": {},
   "outputs": [],
   "source": [
    "def one_hot_encoder(x):\n",
    "\n",
    "\tencoded = np.zeros((len(x), 4))\n",
    "\t\n",
    "\tfor idx, val in enumerate(x):\n",
    "\t\tencoded[idx][val-1] = 1\n",
    "\t\n",
    "\treturn encoded"
   ]
  },
  {
   "cell_type": "code",
   "execution_count": 50,
   "metadata": {},
   "outputs": [],
   "source": [
    "# Para Train\n",
    "# Ruta de la carpeta que contiene las imágenes\n",
    "carpeta_raiz_train = \"C:\\\\Users\\\\halo4\\\\OneDrive\\\\Up\\\\Clases\\\\Aprenizaje maquina 2\\\\Proyecto\\\\Alzheimer_s Dataset\\\\train\\\\\"  \n",
    "list_train_carpetas = [carpeta_raiz_train + tipo for tipo in ['NonDemented','VeryMildDemented','MildDemented','ModerateDemented']]\n",
    "\n",
    "# Lista para almacenar las imágenes como arrays NumPy\n",
    "imagenes_array_train = []\n",
    "list_clases_train = []"
   ]
  },
  {
   "cell_type": "code",
   "execution_count": 51,
   "metadata": {},
   "outputs": [],
   "source": [
    "for num,carpeta_imagenes in enumerate(list_train_carpetas):\n",
    "\n",
    "    # Recorrer todas las imágenes en la carpeta\n",
    "    for filename in os.listdir(carpeta_imagenes):\n",
    "        if filename.endswith(\".jpg\"):  # Puedes ajustar la extensión según tus archivos\n",
    "            ruta_imagen = os.path.join(carpeta_imagenes, filename)\n",
    "            \n",
    "            # Leer la imagen con PIL\n",
    "            imagen_pil = Image.open(ruta_imagen).convert(\"RGB\")\n",
    "            \n",
    "            # Convertir la imagen PIL a un array NumPy\n",
    "            imagen_array = np.array(imagen_pil)\n",
    "            \n",
    "            # Añadir el array NumPy a la lista\n",
    "            imagenes_array_train.append(imagen_array)\n",
    "    \n",
    "    \n",
    "    list_clases_train += [num+1] * len(os.listdir(carpeta_imagenes))"
   ]
  },
  {
   "cell_type": "code",
   "execution_count": 52,
   "metadata": {},
   "outputs": [],
   "source": [
    "# Convertir la lista de arrays NumPy a un array NumPy 4D\n",
    "X_train = np.stack(imagenes_array_train)\n",
    "y_train = np.stack(list_clases_train)"
   ]
  },
  {
   "cell_type": "code",
   "execution_count": 53,
   "metadata": {},
   "outputs": [
    {
     "data": {
      "text/plain": [
       "(5121, 208, 176, 3)"
      ]
     },
     "execution_count": 53,
     "metadata": {},
     "output_type": "execute_result"
    }
   ],
   "source": [
    "X_train.shape"
   ]
  },
  {
   "cell_type": "code",
   "execution_count": 9,
   "metadata": {},
   "outputs": [
    {
     "data": {
      "text/plain": [
       "(5121,)"
      ]
     },
     "execution_count": 9,
     "metadata": {},
     "output_type": "execute_result"
    }
   ],
   "source": [
    "y_train.shape"
   ]
  },
  {
   "cell_type": "code",
   "execution_count": 10,
   "metadata": {},
   "outputs": [],
   "source": [
    "y_train = one_hot_encoder(y_train)"
   ]
  },
  {
   "cell_type": "code",
   "execution_count": 11,
   "metadata": {},
   "outputs": [],
   "source": [
    "# Para TEST\n",
    "# Ruta de la carpeta que contiene las imágenes\n",
    "carpeta_raiz_train = \"C:\\\\Users\\\\halo4\\\\OneDrive\\\\Up\\\\Clases\\\\Aprenizaje maquina 2\\\\Proyecto\\\\Alzheimer_s Dataset\\\\test\\\\\"   \n",
    "list_train_carpetas = [carpeta_raiz_train + tipo for tipo in ['NonDemented','VeryMildDemented','MildDemented','ModerateDemented']]\n",
    "\n",
    "# Lista para almacenar las imágenes como arrays NumPy\n",
    "imagenes_array_test = []\n",
    "list_clases_test = []"
   ]
  },
  {
   "cell_type": "code",
   "execution_count": 12,
   "metadata": {},
   "outputs": [],
   "source": [
    "for num,carpeta_imagenes in enumerate(list_train_carpetas):\n",
    "\n",
    "    # Recorrer todas las imágenes en la carpeta\n",
    "    for filename in os.listdir(carpeta_imagenes):\n",
    "        if filename.endswith(\".jpg\"):  # Puedes ajustar la extensión según tus archivos\n",
    "            ruta_imagen = os.path.join(carpeta_imagenes, filename)\n",
    "            \n",
    "            # Leer la imagen con PIL\n",
    "            imagen_pil = Image.open(ruta_imagen).convert(\"RGB\")\n",
    "            \n",
    "            # Convertir la imagen PIL a un array NumPy\n",
    "            imagen_array = np.array(imagen_pil)\n",
    "            \n",
    "            # Añadir el array NumPy a la lista\n",
    "            imagenes_array_test.append(imagen_array)\n",
    "    \n",
    "    \n",
    "    list_clases_test += [num+1] * len(os.listdir(carpeta_imagenes))"
   ]
  },
  {
   "cell_type": "code",
   "execution_count": 13,
   "metadata": {},
   "outputs": [],
   "source": [
    "# Convertir la lista de arrays NumPy a un array NumPy 4D\n",
    "X_test = np.stack(imagenes_array_test)\n",
    "y_test = np.stack(list_clases_test)"
   ]
  },
  {
   "cell_type": "code",
   "execution_count": 14,
   "metadata": {},
   "outputs": [],
   "source": [
    "y_test = one_hot_encoder(y_test)"
   ]
  },
  {
   "cell_type": "code",
   "execution_count": 15,
   "metadata": {},
   "outputs": [],
   "source": [
    "# Entrenamiento Red Neuronal\n",
    "NUM_CLASSES = 4\n",
    "IMAGE_SIZE = [208,176]\n",
    "EPOCHS = 50\n",
    "BATCH_SIZE = 32\n",
    "\n",
    "# Convertir los arrays NumPy en conjuntos de datos de TensorFlow\n",
    "train_ds = tf.data.Dataset.from_tensor_slices((X_train, y_train))\n",
    "val_ds = tf.data.Dataset.from_tensor_slices((X_test, y_test))"
   ]
  },
  {
   "cell_type": "code",
   "execution_count": 16,
   "metadata": {},
   "outputs": [],
   "source": [
    "# Configurar el conjunto de datos de entrenamiento\n",
    "train_ds = (\n",
    "    train_ds\n",
    "    .shuffle(buffer_size=len(X_train))\n",
    "    .batch(BATCH_SIZE)\n",
    "    .prefetch(buffer_size=tf.data.AUTOTUNE)\n",
    ")"
   ]
  },
  {
   "cell_type": "code",
   "execution_count": 17,
   "metadata": {},
   "outputs": [],
   "source": [
    "# Configurar el conjunto de datos de validación\n",
    "val_ds = (\n",
    "    val_ds\n",
    "    .batch(BATCH_SIZE)\n",
    "    .prefetch(buffer_size=tf.data.AUTOTUNE)\n",
    ")"
   ]
  },
  {
   "cell_type": "code",
   "execution_count": 18,
   "metadata": {},
   "outputs": [
    {
     "name": "stdout",
     "output_type": "stream",
     "text": [
      "Number of replicas: 1\n",
      "2.15.0\n"
     ]
    }
   ],
   "source": [
    "# Definicion de funciones para red neuronal\n",
    "try:\n",
    "    tpu = tf.distribute.cluster_resolver.TPUClusterResolver()\n",
    "    print('Device:', tpu.master())\n",
    "    tf.config.experimental_connect_to_cluster(tpu)\n",
    "    tf.tpu.experimental.initialize_tpu_system(tpu)\n",
    "    strategy = tf.distribute.experimental.TPUStrategy(tpu)\n",
    "except:\n",
    "    strategy = tf.distribute.get_strategy()\n",
    "print('Number of replicas:', strategy.num_replicas_in_sync)\n",
    "    \n",
    "print(tf.__version__)"
   ]
  },
  {
   "cell_type": "code",
   "execution_count": 19,
   "metadata": {},
   "outputs": [],
   "source": [
    "def conv_block(filters):\n",
    "    block = tf.keras.Sequential([\n",
    "        tf.keras.layers.SeparableConv2D(filters, 3, activation='relu', padding='same'),\n",
    "        tf.keras.layers.BatchNormalization(),\n",
    "        tf.keras.layers.MaxPool2D()\n",
    "    ]\n",
    "    )\n",
    "    \n",
    "    return block"
   ]
  },
  {
   "cell_type": "code",
   "execution_count": 20,
   "metadata": {},
   "outputs": [],
   "source": [
    "def dense_block(units, dropout_rate):\n",
    "    block = tf.keras.Sequential([\n",
    "        tf.keras.layers.Dense(units, activation='relu'),\n",
    "        tf.keras.layers.BatchNormalization(),\n",
    "        tf.keras.layers.Dropout(dropout_rate)\n",
    "    ])\n",
    "    \n",
    "    return block"
   ]
  },
  {
   "cell_type": "code",
   "execution_count": 21,
   "metadata": {},
   "outputs": [],
   "source": [
    "def build_model():\n",
    "    model = tf.keras.Sequential([\n",
    "        tf.keras.Input(shape=(*IMAGE_SIZE, 3)),\n",
    "        \n",
    "        tf.keras.layers.Conv2D(16, 3, activation='relu', padding='same'),\n",
    "        tf.keras.layers.Conv2D(16, 3, activation='relu', padding='same'),\n",
    "        tf.keras.layers.MaxPool2D(),\n",
    "        \n",
    "        conv_block(32),\n",
    "        conv_block(64),\n",
    "        \n",
    "        conv_block(128),\n",
    "        tf.keras.layers.Dropout(0.5),\n",
    "        \n",
    "        conv_block(256),\n",
    "        tf.keras.layers.Dropout(0.5),\n",
    "\n",
    "        conv_block(128),\n",
    "        tf.keras.layers.Dropout(0.5),\n",
    "        \n",
    "        tf.keras.layers.Flatten(),\n",
    "        dense_block(128, 0.3),\n",
    "        dense_block(64, 0.3),\n",
    "        \n",
    "        tf.keras.layers.Dense(NUM_CLASSES, activation='softmax')\n",
    "    ])\n",
    "    \n",
    "    return model"
   ]
  },
  {
   "cell_type": "code",
   "execution_count": 22,
   "metadata": {},
   "outputs": [
    {
     "name": "stdout",
     "output_type": "stream",
     "text": [
      "WARNING:tensorflow:From c:\\Users\\halo4\\AppData\\Local\\Programs\\Python\\Python311\\Lib\\site-packages\\keras\\src\\backend.py:1398: The name tf.executing_eagerly_outside_functions is deprecated. Please use tf.compat.v1.executing_eagerly_outside_functions instead.\n",
      "\n",
      "WARNING:tensorflow:From c:\\Users\\halo4\\AppData\\Local\\Programs\\Python\\Python311\\Lib\\site-packages\\keras\\src\\layers\\pooling\\max_pooling2d.py:161: The name tf.nn.max_pool is deprecated. Please use tf.nn.max_pool2d instead.\n",
      "\n",
      "WARNING:tensorflow:From c:\\Users\\halo4\\AppData\\Local\\Programs\\Python\\Python311\\Lib\\site-packages\\keras\\src\\optimizers\\__init__.py:309: The name tf.train.Optimizer is deprecated. Please use tf.compat.v1.train.Optimizer instead.\n",
      "\n"
     ]
    }
   ],
   "source": [
    "with strategy.scope():\n",
    "    model = build_model()\n",
    "\n",
    "    METRICS = ['accuracy', tf.keras.metrics.AUC(name='auc')]\n",
    "    \n",
    "    model.compile(\n",
    "        optimizer='adam',\n",
    "        loss=tf.losses.CategoricalCrossentropy(),\n",
    "        metrics=METRICS\n",
    "    )"
   ]
  },
  {
   "cell_type": "code",
   "execution_count": 23,
   "metadata": {},
   "outputs": [],
   "source": [
    "def exponential_decay(lr0, s):\n",
    "    def exponential_decay_fn(epoch):\n",
    "        return lr0 * 0.1 **(epoch / s)\n",
    "    return exponential_decay_fn"
   ]
  },
  {
   "cell_type": "code",
   "execution_count": 24,
   "metadata": {},
   "outputs": [],
   "source": [
    "exponential_decay_fn = exponential_decay(0.01, 20)\n",
    "\n",
    "lr_scheduler = tf.keras.callbacks.LearningRateScheduler(exponential_decay_fn)\n",
    "\n",
    "checkpoint_cb = tf.keras.callbacks.ModelCheckpoint(\"alzheimer_model.h5\",\n",
    "                                                    save_best_only=True)\n",
    "\n",
    "early_stopping_cb = tf.keras.callbacks.EarlyStopping(patience=4,\n",
    "                                                     restore_best_weights=True)"
   ]
  },
  {
   "cell_type": "code",
   "execution_count": 25,
   "metadata": {},
   "outputs": [],
   "source": [
    "# Definición de stoptraining para red neuronal\n",
    "\n",
    "class StopTrainingOnAUCDifference(Callback):\n",
    "    def __init__(self, monitor_train='auc', monitor_val='val_auc', min_delta=0.04, patience=6, mode='max'):\n",
    "        super(StopTrainingOnAUCDifference, self).__init__()\n",
    "        self.monitor_train = monitor_train\n",
    "        self.monitor_val = monitor_val\n",
    "        self.min_delta = min_delta\n",
    "        self.patience = patience\n",
    "        self.mode = mode\n",
    "        self.wait = 0\n",
    "        self.stopped_epoch = 0\n",
    "\n",
    "        if mode == 'min':\n",
    "            self.min_delta *= -1\n",
    "    def monitor_op(self, current_train, current_val, best_train, best_val):\n",
    "        if self.mode == 'max':\n",
    "            return (current_train - current_val) > self.min_delta \n",
    "        elif self.mode == 'min':\n",
    "            return (current_train - current_val) > self.min_delta\n",
    "        else:\n",
    "            raise ValueError(f\"Unsupported mode: {self.mode}\")\n",
    "\n",
    "    def on_epoch_end(self, epoch, logs=None):\n",
    "        current_train_auc = logs.get(self.monitor_train)\n",
    "        current_val_auc = logs.get(self.monitor_val)\n",
    "        \n",
    "        if current_train_auc is None or current_val_auc is None:\n",
    "            raise ValueError(f\"One or both metrics {self.monitor_train}, {self.monitor_val} are not available.\")\n",
    "\n",
    "        if epoch == 0:\n",
    "            self.best_train_auc = current_train_auc\n",
    "            self.best_val_auc = current_val_auc\n",
    "\n",
    "        if self.monitor_op(current_train_auc, current_val_auc, self.best_train_auc, self.best_val_auc):\n",
    "            self.best_train_auc = current_train_auc\n",
    "            self.best_val_auc = current_val_auc\n",
    "            self.wait = 0\n",
    "        else:\n",
    "            self.wait += 1\n",
    "            if self.wait >= self.patience:\n",
    "                self.stopped_epoch = epoch\n",
    "                self.model.stop_training = True\n",
    "                print(f\"\\nTraining stopped on epoch {epoch + 1} due to no improvement in AUC difference.\")\n",
    "                \n",
    "    def on_train_end(self, logs=None):\n",
    "        if self.stopped_epoch > 0:\n",
    "            print(f\"Training stopped on epoch {self.stopped_epoch + 1}.\")\n"
   ]
  },
  {
   "cell_type": "code",
   "execution_count": 27,
   "metadata": {},
   "outputs": [
    {
     "name": "stdout",
     "output_type": "stream",
     "text": [
      "Epoch 1/50\n",
      "WARNING:tensorflow:From c:\\Users\\halo4\\AppData\\Local\\Programs\\Python\\Python311\\Lib\\site-packages\\keras\\src\\utils\\tf_utils.py:492: The name tf.ragged.RaggedTensorValue is deprecated. Please use tf.compat.v1.ragged.RaggedTensorValue instead.\n",
      "\n",
      "WARNING:tensorflow:From c:\\Users\\halo4\\AppData\\Local\\Programs\\Python\\Python311\\Lib\\site-packages\\keras\\src\\engine\\base_layer_utils.py:384: The name tf.executing_eagerly_outside_functions is deprecated. Please use tf.compat.v1.executing_eagerly_outside_functions instead.\n",
      "\n",
      "161/161 [==============================] - ETA: 0s - loss: 1.1583 - accuracy: 0.4677 - auc: 0.7594"
     ]
    },
    {
     "name": "stderr",
     "output_type": "stream",
     "text": [
      "c:\\Users\\halo4\\AppData\\Local\\Programs\\Python\\Python311\\Lib\\site-packages\\keras\\src\\engine\\training.py:3103: UserWarning: You are saving your model as an HDF5 file via `model.save()`. This file format is considered legacy. We recommend using instead the native Keras format, e.g. `model.save('my_model.keras')`.\n",
      "  saving_api.save_model(\n"
     ]
    },
    {
     "name": "stdout",
     "output_type": "stream",
     "text": [
      "161/161 [==============================] - 35s 168ms/step - loss: 1.1583 - accuracy: 0.4677 - auc: 0.7594 - val_loss: 1.1497 - val_accuracy: 0.3370 - val_auc: 0.7184 - lr: 0.0100\n",
      "Epoch 2/50\n",
      "161/161 [==============================] - 25s 155ms/step - loss: 0.9551 - accuracy: 0.5464 - auc: 0.8256 - val_loss: 3.5604 - val_accuracy: 0.1384 - val_auc: 0.5144 - lr: 0.0089\n",
      "Epoch 3/50\n",
      "161/161 [==============================] - 37s 231ms/step - loss: 0.9157 - accuracy: 0.5638 - auc: 0.8397 - val_loss: 1.3556 - val_accuracy: 0.3526 - val_auc: 0.6190 - lr: 0.0079\n",
      "Epoch 4/50\n",
      "161/161 [==============================] - 39s 246ms/step - loss: 0.9021 - accuracy: 0.5725 - auc: 0.8435 - val_loss: 0.9885 - val_accuracy: 0.5528 - val_auc: 0.8370 - lr: 0.0071\n",
      "Epoch 5/50\n",
      "161/161 [==============================] - 39s 242ms/step - loss: 0.8816 - accuracy: 0.5874 - auc: 0.8507 - val_loss: 1.1962 - val_accuracy: 0.3479 - val_auc: 0.6543 - lr: 0.0063\n",
      "Epoch 6/50\n",
      "161/161 [==============================] - 39s 244ms/step - loss: 0.8612 - accuracy: 0.5966 - auc: 0.8595 - val_loss: 0.9423 - val_accuracy: 0.5473 - val_auc: 0.8386 - lr: 0.0056\n",
      "Epoch 7/50\n",
      "161/161 [==============================] - 39s 240ms/step - loss: 0.8553 - accuracy: 0.6024 - auc: 0.8609 - val_loss: 2.1681 - val_accuracy: 0.5082 - val_auc: 0.7929 - lr: 0.0050\n",
      "Epoch 8/50\n",
      "161/161 [==============================] - 38s 238ms/step - loss: 0.8437 - accuracy: 0.6042 - auc: 0.8640 - val_loss: 0.9923 - val_accuracy: 0.5622 - val_auc: 0.8425 - lr: 0.0045\n",
      "Epoch 9/50\n",
      "161/161 [==============================] - 39s 241ms/step - loss: 0.8333 - accuracy: 0.6046 - auc: 0.8681 - val_loss: 0.9410 - val_accuracy: 0.5567 - val_auc: 0.8425 - lr: 0.0040\n",
      "Epoch 10/50\n",
      "161/161 [==============================] - 39s 238ms/step - loss: 0.8217 - accuracy: 0.6194 - auc: 0.8730 - val_loss: 2.0309 - val_accuracy: 0.3604 - val_auc: 0.6819 - lr: 0.0035\n",
      "Epoch 11/50\n",
      "161/161 [==============================] - 38s 236ms/step - loss: 0.8104 - accuracy: 0.6319 - auc: 0.8773 - val_loss: 2.4094 - val_accuracy: 0.1775 - val_auc: 0.4281 - lr: 0.0032\n",
      "Epoch 12/50\n",
      "161/161 [==============================] - 39s 242ms/step - loss: 0.7875 - accuracy: 0.6409 - auc: 0.8852 - val_loss: 1.7431 - val_accuracy: 0.5207 - val_auc: 0.8035 - lr: 0.0028\n",
      "Epoch 13/50\n",
      "161/161 [==============================] - 27s 169ms/step - loss: 0.7632 - accuracy: 0.6546 - auc: 0.8926 - val_loss: 1.6111 - val_accuracy: 0.2392 - val_auc: 0.6151 - lr: 0.0025\n",
      "Epoch 14/50\n",
      "161/161 [==============================] - 25s 154ms/step - loss: 0.7529 - accuracy: 0.6577 - auc: 0.8951 - val_loss: 1.1748 - val_accuracy: 0.4136 - val_auc: 0.7391 - lr: 0.0022\n",
      "Epoch 15/50\n",
      "161/161 [==============================] - 25s 156ms/step - loss: 0.7421 - accuracy: 0.6624 - auc: 0.8977 - val_loss: 0.8789 - val_accuracy: 0.6005 - val_auc: 0.8618 - lr: 0.0020\n",
      "Epoch 16/50\n",
      "161/161 [==============================] - 25s 154ms/step - loss: 0.7126 - accuracy: 0.6848 - auc: 0.9064 - val_loss: 1.4354 - val_accuracy: 0.5692 - val_auc: 0.8289 - lr: 0.0018\n",
      "Epoch 17/50\n",
      "161/161 [==============================] - 25s 154ms/step - loss: 0.6838 - accuracy: 0.7055 - auc: 0.9144 - val_loss: 1.4068 - val_accuracy: 0.5512 - val_auc: 0.8332 - lr: 0.0016\n",
      "Epoch 18/50\n",
      "161/161 [==============================] - 25s 154ms/step - loss: 0.6583 - accuracy: 0.7094 - auc: 0.9198 - val_loss: 0.8942 - val_accuracy: 0.5778 - val_auc: 0.8549 - lr: 0.0014\n",
      "Epoch 19/50\n",
      "161/161 [==============================] - 25s 153ms/step - loss: 0.6432 - accuracy: 0.7247 - auc: 0.9244 - val_loss: 1.0550 - val_accuracy: 0.5481 - val_auc: 0.8207 - lr: 0.0013\n",
      "Epoch 20/50\n",
      "161/161 [==============================] - 25s 156ms/step - loss: 0.6082 - accuracy: 0.7342 - auc: 0.9318 - val_loss: 0.8443 - val_accuracy: 0.6239 - val_auc: 0.8819 - lr: 0.0011\n",
      "Epoch 21/50\n",
      "161/161 [==============================] - 25s 154ms/step - loss: 0.5810 - accuracy: 0.7500 - auc: 0.9378 - val_loss: 0.9460 - val_accuracy: 0.5715 - val_auc: 0.8493 - lr: 0.0010\n",
      "Epoch 22/50\n",
      "161/161 [==============================] - 25s 154ms/step - loss: 0.5707 - accuracy: 0.7610 - auc: 0.9402 - val_loss: 0.8746 - val_accuracy: 0.5989 - val_auc: 0.8677 - lr: 8.9125e-04\n",
      "Epoch 23/50\n",
      "161/161 [==============================] - 25s 154ms/step - loss: 0.5435 - accuracy: 0.7711 - auc: 0.9456 - val_loss: 0.8219 - val_accuracy: 0.6474 - val_auc: 0.8893 - lr: 7.9433e-04\n",
      "Epoch 24/50\n",
      "161/161 [==============================] - 25s 154ms/step - loss: 0.5414 - accuracy: 0.7709 - auc: 0.9463 - val_loss: 1.0970 - val_accuracy: 0.5668 - val_auc: 0.8330 - lr: 7.0795e-04\n",
      "Epoch 25/50\n",
      "161/161 [==============================] - 25s 154ms/step - loss: 0.5242 - accuracy: 0.7834 - auc: 0.9501 - val_loss: 0.8878 - val_accuracy: 0.6443 - val_auc: 0.8851 - lr: 6.3096e-04\n",
      "Epoch 26/50\n",
      "161/161 [==============================] - 25s 153ms/step - loss: 0.4806 - accuracy: 0.7981 - auc: 0.9573 - val_loss: 0.8052 - val_accuracy: 0.6411 - val_auc: 0.8899 - lr: 5.6234e-04\n",
      "Epoch 27/50\n",
      "161/161 [==============================] - 25s 154ms/step - loss: 0.4611 - accuracy: 0.8065 - auc: 0.9607 - val_loss: 0.8801 - val_accuracy: 0.6192 - val_auc: 0.8796 - lr: 5.0119e-04\n",
      "Epoch 28/50\n",
      "161/161 [==============================] - 25s 153ms/step - loss: 0.4671 - accuracy: 0.8059 - auc: 0.9598 - val_loss: 0.8185 - val_accuracy: 0.6458 - val_auc: 0.8863 - lr: 4.4668e-04\n",
      "Epoch 29/50\n",
      "161/161 [==============================] - 25s 154ms/step - loss: 0.4621 - accuracy: 0.8084 - auc: 0.9606 - val_loss: 0.9205 - val_accuracy: 0.6145 - val_auc: 0.8677 - lr: 3.9811e-04\n",
      "Epoch 30/50\n",
      "161/161 [==============================] - 25s 153ms/step - loss: 0.4409 - accuracy: 0.8200 - auc: 0.9643 - val_loss: 0.8033 - val_accuracy: 0.6615 - val_auc: 0.8955 - lr: 3.5481e-04\n",
      "Epoch 31/50\n",
      "161/161 [==============================] - 25s 153ms/step - loss: 0.4167 - accuracy: 0.8369 - auc: 0.9679 - val_loss: 0.8826 - val_accuracy: 0.6255 - val_auc: 0.8817 - lr: 3.1623e-04\n",
      "Epoch 32/50\n",
      "161/161 [==============================] - 25s 153ms/step - loss: 0.4168 - accuracy: 0.8307 - auc: 0.9677 - val_loss: 0.8654 - val_accuracy: 0.6552 - val_auc: 0.8920 - lr: 2.8184e-04\n",
      "Epoch 33/50\n",
      "161/161 [==============================] - 25s 153ms/step - loss: 0.4166 - accuracy: 0.8309 - auc: 0.9678 - val_loss: 0.9280 - val_accuracy: 0.6161 - val_auc: 0.8733 - lr: 2.5119e-04\n",
      "Epoch 34/50\n",
      "161/161 [==============================] - 25s 153ms/step - loss: 0.4004 - accuracy: 0.8391 - auc: 0.9704 - val_loss: 0.8525 - val_accuracy: 0.6591 - val_auc: 0.8952 - lr: 2.2387e-04\n",
      "Epoch 35/50\n",
      "161/161 [==============================] - 25s 152ms/step - loss: 0.3982 - accuracy: 0.8389 - auc: 0.9707 - val_loss: 0.8507 - val_accuracy: 0.6607 - val_auc: 0.8962 - lr: 1.9953e-04\n",
      "Epoch 36/50\n",
      "161/161 [==============================] - 25s 153ms/step - loss: 0.4019 - accuracy: 0.8409 - auc: 0.9700 - val_loss: 0.8387 - val_accuracy: 0.6591 - val_auc: 0.8957 - lr: 1.7783e-04\n",
      "Epoch 37/50\n",
      "161/161 [==============================] - 25s 153ms/step - loss: 0.3878 - accuracy: 0.8416 - auc: 0.9719 - val_loss: 0.8751 - val_accuracy: 0.6482 - val_auc: 0.8885 - lr: 1.5849e-04\n",
      "Epoch 38/50\n",
      "161/161 [==============================] - 25s 152ms/step - loss: 0.3703 - accuracy: 0.8590 - auc: 0.9745 - val_loss: 0.9274 - val_accuracy: 0.6349 - val_auc: 0.8807 - lr: 1.4125e-04\n",
      "Epoch 39/50\n",
      "161/161 [==============================] - 25s 153ms/step - loss: 0.3736 - accuracy: 0.8520 - auc: 0.9741 - val_loss: 0.9282 - val_accuracy: 0.6544 - val_auc: 0.8854 - lr: 1.2589e-04\n",
      "Epoch 40/50\n",
      "161/161 [==============================] - 25s 152ms/step - loss: 0.3618 - accuracy: 0.8541 - auc: 0.9755 - val_loss: 0.8712 - val_accuracy: 0.6521 - val_auc: 0.8931 - lr: 1.1220e-04\n",
      "Epoch 41/50\n",
      "161/161 [==============================] - 25s 153ms/step - loss: 0.3648 - accuracy: 0.8533 - auc: 0.9753 - val_loss: 0.8386 - val_accuracy: 0.6724 - val_auc: 0.8987 - lr: 1.0000e-04\n",
      "Epoch 42/50\n",
      "161/161 [==============================] - 25s 153ms/step - loss: 0.3732 - accuracy: 0.8489 - auc: 0.9738 - val_loss: 0.8399 - val_accuracy: 0.6575 - val_auc: 0.8971 - lr: 8.9125e-05\n",
      "Epoch 43/50\n",
      "161/161 [==============================] - 25s 153ms/step - loss: 0.3600 - accuracy: 0.8559 - auc: 0.9759 - val_loss: 0.8515 - val_accuracy: 0.6560 - val_auc: 0.8955 - lr: 7.9433e-05\n",
      "Epoch 44/50\n",
      "161/161 [==============================] - 25s 154ms/step - loss: 0.3729 - accuracy: 0.8520 - auc: 0.9738 - val_loss: 0.8520 - val_accuracy: 0.6599 - val_auc: 0.8965 - lr: 7.0795e-05\n",
      "Epoch 45/50\n",
      "161/161 [==============================] - 25s 153ms/step - loss: 0.3620 - accuracy: 0.8573 - auc: 0.9755 - val_loss: 0.8733 - val_accuracy: 0.6474 - val_auc: 0.8902 - lr: 6.3096e-05\n",
      "Epoch 46/50\n",
      "161/161 [==============================] - 25s 153ms/step - loss: 0.3652 - accuracy: 0.8553 - auc: 0.9750 - val_loss: 0.8528 - val_accuracy: 0.6591 - val_auc: 0.8959 - lr: 5.6234e-05\n",
      "Epoch 47/50\n",
      "161/161 [==============================] - 25s 153ms/step - loss: 0.3447 - accuracy: 0.8608 - auc: 0.9779 - val_loss: 0.8756 - val_accuracy: 0.6630 - val_auc: 0.8936 - lr: 5.0119e-05\n",
      "Epoch 48/50\n",
      "161/161 [==============================] - 25s 152ms/step - loss: 0.3618 - accuracy: 0.8588 - auc: 0.9753 - val_loss: 0.8400 - val_accuracy: 0.6638 - val_auc: 0.8991 - lr: 4.4668e-05\n",
      "Epoch 49/50\n",
      "161/161 [==============================] - 25s 153ms/step - loss: 0.3565 - accuracy: 0.8602 - auc: 0.9761 - val_loss: 0.8804 - val_accuracy: 0.6615 - val_auc: 0.8938 - lr: 3.9811e-05\n",
      "Epoch 50/50\n",
      "161/161 [==============================] - 25s 153ms/step - loss: 0.3386 - accuracy: 0.8672 - auc: 0.9786 - val_loss: 0.8673 - val_accuracy: 0.6607 - val_auc: 0.8953 - lr: 3.5481e-05\n"
     ]
    }
   ],
   "source": [
    "# Entrenar el modelo con el callback personalizado\n",
    "\n",
    "history = model.fit(\n",
    "    train_ds,\n",
    "    validation_data=val_ds,    \n",
    "    batch_size=BATCH_SIZE,\n",
    "    callbacks=[checkpoint_cb, lr_scheduler, StopTrainingOnAUCDifference()],\n",
    "    epochs=EPOCHS\n",
    ")"
   ]
  },
  {
   "cell_type": "code",
   "execution_count": 28,
   "metadata": {},
   "outputs": [],
   "source": [
    "# Guardar modelo\n",
    "\n",
    "model_json = model.to_json()\n",
    "with open('model.json', 'w') as json_file:\n",
    "    json_file.write(model_json)\n",
    "model.save_weights('C:\\\\Users\\\\halo4\\\\OneDrive\\\\Up\\\\Clases\\\\Aprenizaje maquina 2\\\\Proyecto\\\\Irving\\\\model_cnnv2.h5')"
   ]
  },
  {
   "cell_type": "code",
   "execution_count": 29,
   "metadata": {},
   "outputs": [],
   "source": [
    "# Cargar el modelo\n",
    "\n",
    "from tensorflow.keras.models import model_from_json\n",
    "\n",
    "with open('model.json', 'r') as json_file:\n",
    "    loaded_model_json = json_file.read()\n",
    "loaded_model = model_from_json(loaded_model_json)\n",
    "loaded_model.load_weights('C:\\\\Users\\\\halo4\\\\OneDrive\\\\Up\\\\Clases\\\\Aprenizaje maquina 2\\\\Proyecto\\\\Irving\\\\model_cnnv2.h5')"
   ]
  },
  {
   "cell_type": "code",
   "execution_count": 30,
   "metadata": {},
   "outputs": [],
   "source": [
    "# Definir la funcion para obtener la última capa flatten\n",
    "\n",
    "def get_feature_layer(model, data):\n",
    "\t\n",
    "    total_layers = len(model.layers)\n",
    "\n",
    "    fl_index = total_layers-4\n",
    "\t\n",
    "    feature_layer_model = tf.keras.Model(\n",
    "        inputs=model.input,\n",
    "        outputs=model.get_layer(index=fl_index).output)\n",
    "\t\n",
    "    feature_layer_output = feature_layer_model.predict(data)\n",
    "\t\n",
    "    return feature_layer_output"
   ]
  },
  {
   "cell_type": "code",
   "execution_count": 31,
   "metadata": {},
   "outputs": [],
   "source": [
    "# Definición de de función para entrenar modelo de xgboost\n",
    "\n",
    "def xgb_model(X_train, y_train, X_test, y_test):\n",
    "  \n",
    "    y_train = np.argmax(y_train, axis=1)\n",
    "    y_test = np.argmax(y_test, axis=1)\n",
    "  \n",
    "  \n",
    "    model = XGBClassifier(\n",
    "        max_depth=20,\n",
    "        learning_rate=0.05,\n",
    "        n_estimators=100,\n",
    "        objective='multi:softmax',  # Clasificación multiclase\n",
    "        num_class=4,  # Número de clases en tu target\n",
    "        eval_metric='mlogloss'  # Puedes ajustar la métrica según tus necesidades\n",
    "    )\n",
    "    model.fit(X_train, y_train)\n",
    "    \n",
    "    pickle.dump(model, open(\"cnn_xgboost_final.pickle.dat\", \"wb\"))\n",
    "\n",
    "    return model"
   ]
  },
  {
   "cell_type": "code",
   "execution_count": 56,
   "metadata": {},
   "outputs": [
    {
     "name": "stdout",
     "output_type": "stream",
     "text": [
      "161/161 [==============================] - 9s 51ms/step\n",
      "Features extracted of training data\n",
      "40/40 [==============================] - 3s 54ms/step\n",
      "Features extracted of test data\n",
      "\n",
      "Build and save of CNN-XGBoost Model.\n"
     ]
    },
    {
     "ename": "AxisError",
     "evalue": "axis 1 is out of bounds for array of dimension 1",
     "output_type": "error",
     "traceback": [
      "\u001b[1;31m---------------------------------------------------------------------------\u001b[0m",
      "\u001b[1;31mAxisError\u001b[0m                                 Traceback (most recent call last)",
      "\u001b[1;32mc:\\Users\\halo4\\OneDrive\\Up\\Clases\\Aprenizaje maquina 2\\Proyecto\\Irving\\cnn2.ipynb Cell 29\u001b[0m line \u001b[0;36m1\n\u001b[0;32m      <a href='vscode-notebook-cell:/c%3A/Users/halo4/OneDrive/Up/Clases/Aprenizaje%20maquina%202/Proyecto/Irving/cnn2.ipynb#X32sZmlsZQ%3D%3D?line=6'>7</a>\u001b[0m \u001b[39mprint\u001b[39m(\u001b[39m\"\u001b[39m\u001b[39mFeatures extracted of test data\u001b[39m\u001b[39m\\n\u001b[39;00m\u001b[39m\"\u001b[39m)\n\u001b[0;32m      <a href='vscode-notebook-cell:/c%3A/Users/halo4/OneDrive/Up/Clases/Aprenizaje%20maquina%202/Proyecto/Irving/cnn2.ipynb#X32sZmlsZQ%3D%3D?line=8'>9</a>\u001b[0m \u001b[39mprint\u001b[39m(\u001b[39m\"\u001b[39m\u001b[39mBuild and save of CNN-XGBoost Model.\u001b[39m\u001b[39m\"\u001b[39m)\n\u001b[1;32m---> <a href='vscode-notebook-cell:/c%3A/Users/halo4/OneDrive/Up/Clases/Aprenizaje%20maquina%202/Proyecto/Irving/cnn2.ipynb#X32sZmlsZQ%3D%3D?line=9'>10</a>\u001b[0m model_x \u001b[39m=\u001b[39m xgb_model(X_train_cnn, y_train, X_test_cnn, y_test)\n",
      "\u001b[1;32mc:\\Users\\halo4\\OneDrive\\Up\\Clases\\Aprenizaje maquina 2\\Proyecto\\Irving\\cnn2.ipynb Cell 29\u001b[0m line \u001b[0;36m5\n\u001b[0;32m      <a href='vscode-notebook-cell:/c%3A/Users/halo4/OneDrive/Up/Clases/Aprenizaje%20maquina%202/Proyecto/Irving/cnn2.ipynb#X32sZmlsZQ%3D%3D?line=2'>3</a>\u001b[0m \u001b[39mdef\u001b[39;00m \u001b[39mxgb_model\u001b[39m(X_train, y_train, X_test, y_test):\n\u001b[1;32m----> <a href='vscode-notebook-cell:/c%3A/Users/halo4/OneDrive/Up/Clases/Aprenizaje%20maquina%202/Proyecto/Irving/cnn2.ipynb#X32sZmlsZQ%3D%3D?line=4'>5</a>\u001b[0m     y_train \u001b[39m=\u001b[39m np\u001b[39m.\u001b[39;49margmax(y_train, axis\u001b[39m=\u001b[39;49m\u001b[39m1\u001b[39;49m)\n\u001b[0;32m      <a href='vscode-notebook-cell:/c%3A/Users/halo4/OneDrive/Up/Clases/Aprenizaje%20maquina%202/Proyecto/Irving/cnn2.ipynb#X32sZmlsZQ%3D%3D?line=5'>6</a>\u001b[0m     y_test \u001b[39m=\u001b[39m np\u001b[39m.\u001b[39margmax(y_test, axis\u001b[39m=\u001b[39m\u001b[39m1\u001b[39m)\n\u001b[0;32m      <a href='vscode-notebook-cell:/c%3A/Users/halo4/OneDrive/Up/Clases/Aprenizaje%20maquina%202/Proyecto/Irving/cnn2.ipynb#X32sZmlsZQ%3D%3D?line=8'>9</a>\u001b[0m     model \u001b[39m=\u001b[39m XGBClassifier(\n\u001b[0;32m     <a href='vscode-notebook-cell:/c%3A/Users/halo4/OneDrive/Up/Clases/Aprenizaje%20maquina%202/Proyecto/Irving/cnn2.ipynb#X32sZmlsZQ%3D%3D?line=9'>10</a>\u001b[0m         max_depth\u001b[39m=\u001b[39m\u001b[39m20\u001b[39m,\n\u001b[0;32m     <a href='vscode-notebook-cell:/c%3A/Users/halo4/OneDrive/Up/Clases/Aprenizaje%20maquina%202/Proyecto/Irving/cnn2.ipynb#X32sZmlsZQ%3D%3D?line=10'>11</a>\u001b[0m         learning_rate\u001b[39m=\u001b[39m\u001b[39m0.05\u001b[39m,\n\u001b[1;32m   (...)\u001b[0m\n\u001b[0;32m     <a href='vscode-notebook-cell:/c%3A/Users/halo4/OneDrive/Up/Clases/Aprenizaje%20maquina%202/Proyecto/Irving/cnn2.ipynb#X32sZmlsZQ%3D%3D?line=14'>15</a>\u001b[0m         eval_metric\u001b[39m=\u001b[39m\u001b[39m'\u001b[39m\u001b[39mmlogloss\u001b[39m\u001b[39m'\u001b[39m  \u001b[39m# Puedes ajustar la métrica según tus necesidades\u001b[39;00m\n\u001b[0;32m     <a href='vscode-notebook-cell:/c%3A/Users/halo4/OneDrive/Up/Clases/Aprenizaje%20maquina%202/Proyecto/Irving/cnn2.ipynb#X32sZmlsZQ%3D%3D?line=15'>16</a>\u001b[0m     )\n",
      "File \u001b[1;32mc:\\Users\\halo4\\AppData\\Local\\Programs\\Python\\Python311\\Lib\\site-packages\\numpy\\core\\fromnumeric.py:1229\u001b[0m, in \u001b[0;36margmax\u001b[1;34m(a, axis, out, keepdims)\u001b[0m\n\u001b[0;32m   1142\u001b[0m \u001b[39m\u001b[39m\u001b[39m\"\"\"\u001b[39;00m\n\u001b[0;32m   1143\u001b[0m \u001b[39mReturns the indices of the maximum values along an axis.\u001b[39;00m\n\u001b[0;32m   1144\u001b[0m \n\u001b[1;32m   (...)\u001b[0m\n\u001b[0;32m   1226\u001b[0m \u001b[39m(2, 1, 4)\u001b[39;00m\n\u001b[0;32m   1227\u001b[0m \u001b[39m\"\"\"\u001b[39;00m\n\u001b[0;32m   1228\u001b[0m kwds \u001b[39m=\u001b[39m {\u001b[39m'\u001b[39m\u001b[39mkeepdims\u001b[39m\u001b[39m'\u001b[39m: keepdims} \u001b[39mif\u001b[39;00m keepdims \u001b[39mis\u001b[39;00m \u001b[39mnot\u001b[39;00m np\u001b[39m.\u001b[39m_NoValue \u001b[39melse\u001b[39;00m {}\n\u001b[1;32m-> 1229\u001b[0m \u001b[39mreturn\u001b[39;00m _wrapfunc(a, \u001b[39m'\u001b[39;49m\u001b[39margmax\u001b[39;49m\u001b[39m'\u001b[39;49m, axis\u001b[39m=\u001b[39;49maxis, out\u001b[39m=\u001b[39;49mout, \u001b[39m*\u001b[39;49m\u001b[39m*\u001b[39;49mkwds)\n",
      "File \u001b[1;32mc:\\Users\\halo4\\AppData\\Local\\Programs\\Python\\Python311\\Lib\\site-packages\\numpy\\core\\fromnumeric.py:59\u001b[0m, in \u001b[0;36m_wrapfunc\u001b[1;34m(obj, method, *args, **kwds)\u001b[0m\n\u001b[0;32m     56\u001b[0m     \u001b[39mreturn\u001b[39;00m _wrapit(obj, method, \u001b[39m*\u001b[39margs, \u001b[39m*\u001b[39m\u001b[39m*\u001b[39mkwds)\n\u001b[0;32m     58\u001b[0m \u001b[39mtry\u001b[39;00m:\n\u001b[1;32m---> 59\u001b[0m     \u001b[39mreturn\u001b[39;00m bound(\u001b[39m*\u001b[39;49margs, \u001b[39m*\u001b[39;49m\u001b[39m*\u001b[39;49mkwds)\n\u001b[0;32m     60\u001b[0m \u001b[39mexcept\u001b[39;00m \u001b[39mTypeError\u001b[39;00m:\n\u001b[0;32m     61\u001b[0m     \u001b[39m# A TypeError occurs if the object does have such a method in its\u001b[39;00m\n\u001b[0;32m     62\u001b[0m     \u001b[39m# class, but its signature is not identical to that of NumPy's. This\u001b[39;00m\n\u001b[1;32m   (...)\u001b[0m\n\u001b[0;32m     66\u001b[0m     \u001b[39m# Call _wrapit from within the except clause to ensure a potential\u001b[39;00m\n\u001b[0;32m     67\u001b[0m     \u001b[39m# exception has a traceback chain.\u001b[39;00m\n\u001b[0;32m     68\u001b[0m     \u001b[39mreturn\u001b[39;00m _wrapit(obj, method, \u001b[39m*\u001b[39margs, \u001b[39m*\u001b[39m\u001b[39m*\u001b[39mkwds)\n",
      "\u001b[1;31mAxisError\u001b[0m: axis 1 is out of bounds for array of dimension 1"
     ]
    }
   ],
   "source": [
    "# Entrenamineto de modelo Xgboost\n",
    "\n",
    "X_train_cnn =  get_feature_layer(model,X_train)\n",
    "print(\"Features extracted of training data\")\n",
    "\n",
    "X_test_cnn = get_feature_layer(model,X_test)\n",
    "print(\"Features extracted of test data\\n\")\n",
    "\n",
    "print(\"Build and save of CNN-XGBoost Model.\")\n",
    "model_x = xgb_model(X_train_cnn, y_train, X_test_cnn, y_test)"
   ]
  },
  {
   "cell_type": "code",
   "execution_count": 33,
   "metadata": {},
   "outputs": [],
   "source": [
    "# Colapsar matriz encoded de variable objetivo\n",
    "y_train_encoded = np.argmax(y_train, axis=1)\n",
    "y_test_encoded = np.argmax(y_test, axis=1)"
   ]
  },
  {
   "cell_type": "code",
   "execution_count": 34,
   "metadata": {},
   "outputs": [
    {
     "name": "stdout",
     "output_type": "stream",
     "text": [
      "40/40 [==============================] - 3s 54ms/step\n"
     ]
    }
   ],
   "source": [
    "# Comparacion de modelo CNN y CNN + XGboost\n",
    "predictions_cnn = model.predict(X_test)\n",
    "predictions_cnnxg = model_x.predict_proba(X_test_cnn)"
   ]
  },
  {
   "cell_type": "code",
   "execution_count": 35,
   "metadata": {},
   "outputs": [],
   "source": [
    "y_test_raw = np.argmax(y_test, axis=1)\n",
    "y_pred_raw = np.argmax(predictions_cnn, axis=1)"
   ]
  },
  {
   "cell_type": "code",
   "execution_count": 36,
   "metadata": {},
   "outputs": [
    {
     "name": "stdout",
     "output_type": "stream",
     "text": [
      "Precisión cnn: 0.6606724003127443\n",
      "AUC cnn: 0.8751086265814557\n"
     ]
    }
   ],
   "source": [
    "# Calcular la precisión\n",
    "accuracy = accuracy_score(y_test_raw, y_pred_raw)\n",
    "\n",
    "# Imprimir el resultado\n",
    "print(\"Precisión cnn:\", accuracy)\n",
    "\n",
    "# Calcular la precisión\n",
    "auc = roc_auc_score(y_test_raw, predictions_cnn, multi_class='ovr')\n",
    "\n",
    "# Imprimir el resultado\n",
    "print(\"AUC cnn:\", auc)"
   ]
  },
  {
   "cell_type": "code",
   "execution_count": 37,
   "metadata": {},
   "outputs": [],
   "source": [
    "y_test_raw = np.argmax(y_test, axis=1)\n",
    "y_pred_raw = np.argmax(predictions_cnnxg, axis=1)"
   ]
  },
  {
   "cell_type": "code",
   "execution_count": 38,
   "metadata": {},
   "outputs": [
    {
     "name": "stdout",
     "output_type": "stream",
     "text": [
      "Precisión cnn + xgboost: 0.6637998436278343\n"
     ]
    }
   ],
   "source": [
    "# Calcular la precisión\n",
    "accuracy = accuracy_score(y_test_raw, y_pred_raw)\n",
    "\n",
    "# Imprimir el resultado\n",
    "print(\"Precisión cnn + xgboost:\", accuracy)"
   ]
  },
  {
   "cell_type": "code",
   "execution_count": 39,
   "metadata": {},
   "outputs": [
    {
     "name": "stdout",
     "output_type": "stream",
     "text": [
      "AUC cnn + xgboost: 0.8243074172977117\n"
     ]
    }
   ],
   "source": [
    "# Calcular la precisión\n",
    "auc = roc_auc_score(y_test_raw, predictions_cnnxg, multi_class='ovr')\n",
    "\n",
    "# Imprimir el resultado\n",
    "print(\"AUC cnn + xgboost:\", auc)"
   ]
  },
  {
   "cell_type": "code",
   "execution_count": 40,
   "metadata": {},
   "outputs": [
    {
     "name": "stdout",
     "output_type": "stream",
     "text": [
      "161/161 [==============================] - 8s 48ms/step\n"
     ]
    },
    {
     "data": {
      "text/plain": [
       "(1279, 4)"
      ]
     },
     "execution_count": 40,
     "metadata": {},
     "output_type": "execute_result"
    }
   ],
   "source": [
    "predictions = loaded_model.predict(X_train)\n",
    "\n",
    "predictions.shape\n",
    "y_test.shape"
   ]
  },
  {
   "cell_type": "code",
   "execution_count": 41,
   "metadata": {},
   "outputs": [],
   "source": [
    "y_test_raw = np.argmax(y_train, axis=1)\n",
    "y_pred_raw = np.argmax(predictions, axis=1)"
   ]
  },
  {
   "cell_type": "code",
   "execution_count": 42,
   "metadata": {},
   "outputs": [],
   "source": [
    "from sklearn.metrics import accuracy_score\n",
    "from sklearn.metrics import roc_auc_score"
   ]
  },
  {
   "cell_type": "code",
   "execution_count": 43,
   "metadata": {},
   "outputs": [
    {
     "name": "stdout",
     "output_type": "stream",
     "text": [
      "Precisión: 0.9214997070884593\n",
      "AUC: 0.9949118373291862\n"
     ]
    }
   ],
   "source": [
    "# Calcular la precisión\n",
    "accuracy = accuracy_score(y_test_raw, y_pred_raw)\n",
    "\n",
    "# Imprimir el resultado\n",
    "print(\"Precisión:\", accuracy)\n",
    "\n",
    "# Calcular la precisión\n",
    "auc = roc_auc_score(y_test_raw, predictions, multi_class='ovr')\n",
    "\n",
    "# Imprimir el resultado\n",
    "print(\"AUC:\", auc)"
   ]
  },
  {
   "cell_type": "code",
   "execution_count": 44,
   "metadata": {},
   "outputs": [],
   "source": [
    "import seaborn as sns\n",
    "import matplotlib.pyplot as plt\n",
    "from sklearn.metrics import confusion_matrix"
   ]
  },
  {
   "cell_type": "code",
   "execution_count": 45,
   "metadata": {},
   "outputs": [],
   "source": [
    "# Calcular la matriz de confusión\n",
    "conf_matrix = confusion_matrix(y_test_raw, y_pred_raw)\n",
    "\n",
    "# Obtener las etiquetas únicas\n",
    "class_labels = np.unique(np.concatenate((y_test_raw, y_pred_raw)))"
   ]
  },
  {
   "cell_type": "code",
   "execution_count": 46,
   "metadata": {},
   "outputs": [
    {
     "data": {
      "image/png": "[encoded data removed]",
      "text/plain": [
       "<Figure size 800x600 with 1 Axes>"
      ]
     },
     "metadata": {},
     "output_type": "display_data"
    }
   ],
   "source": [
    "# Crear un mapa de calor con seaborn\n",
    "plt.figure(figsize=(8, 6))\n",
    "sns.set(font_scale=1.2)\n",
    "sns.heatmap(conf_matrix, annot=True, fmt=\"d\", cmap=\"Blues\", cbar=False,\n",
    "            xticklabels=class_labels, yticklabels=class_labels)\n",
    "plt.xlabel('Predicciones')\n",
    "plt.ylabel('Etiquetas reales')\n",
    "plt.title('Matriz de Confusión')\n",
    "plt.show()"
   ]
  },
  {
   "cell_type": "code",
   "execution_count": 47,
   "metadata": {},
   "outputs": [],
   "source": [
    "from flask import Flask"
   ]
  },
  {
   "cell_type": "code",
   "execution_count": null,
   "metadata": {},
   "outputs": [],
   "source": [
    "app = Flask(__name__)\n",
    "# Python decorator: va a agregar mas cuncionalidad al modelo\n",
    "@app.route(\"/\")\n",
    "def index():\n",
    "    return \"Hello world\"\n",
    "app.run(host = \"0.0.0.0\", port = 80)"
   ]
  }
 ],
 "metadata": {
  "kernelspec": {
   "display_name": "Python 3",
   "language": "python",
   "name": "python3"
  },
  "language_info": {
   "codemirror_mode": {
    "name": "ipython",
    "version": 3
   },
   "file_extension": ".py",
   "mimetype": "text/x-python",
   "name": "python",
   "nbconvert_exporter": "python",
   "pygments_lexer": "ipython3",
   "version": "3.11.6"
  }
 },
 "nbformat": 4,
 "nbformat_minor": 2
}
